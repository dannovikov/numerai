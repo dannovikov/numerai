{
 "cells": [
  {
   "cell_type": "code",
   "execution_count": null,
   "metadata": {},
   "outputs": [],
   "source": [
    "import numpy as np\n",
    "import pandas as pd\n",
    "import os\n",
    "import seaborn as sns\n",
    "from matplotlib import pyplot as plt\n",
    "from pyarrow.parquet import ParquetFile\n",
    "import pyarrow as pa\n",
    "from tqdm.auto import tqdm"
   ]
  },
  {
   "cell_type": "code",
   "execution_count": null,
   "metadata": {},
   "outputs": [],
   "source": [
    "n = 100000\n",
    "tr_data_path = os.path.join('data', 'numerai_training_data.parquet')\n",
    "vl_data_path = os.path.join('data', 'numerai_validation_data.parquet')\n",
    "tr_pf = ParquetFile(tr_data_path)\n",
    "vl_pf = ParquetFile(vl_data_path)\n",
    "tr_itr = tr_pf.iter_batches(batch_size=n)\n",
    "vl_itr = vl_pf.iter_batches(batch_size=500)\n",
    "\n",
    "MIN_ERA = 1\n",
    "MAX_ERA = 1"
   ]
  },
  {
   "cell_type": "code",
   "execution_count": null,
   "metadata": {},
   "outputs": [],
   "source": [
    "rows = next(tr_itr)\n",
    "df = pa.Table.from_batches([rows]).to_pandas()\n",
    "df = df.astype({'era': 'uint16'})\n",
    "df = df.drop('data_type', axis=1)\n",
    "\n",
    "rows = next(vl_itr)\n",
    "val_df = pa.Table.from_batches([rows]).to_pandas()\n",
    "val_df = val_df.astype({'era': 'uint16'})\n",
    "val_df = val_df.drop('data_type', axis=1)\n"
   ]
  },
  {
   "cell_type": "code",
   "execution_count": null,
   "metadata": {},
   "outputs": [],
   "source": [
    "MIN_ERA = MAX_ERA\n",
    "MAX_ERA = df.era.max()\n",
    "MIN_ERA, MAX_ERA"
   ]
  },
  {
   "cell_type": "code",
   "execution_count": null,
   "metadata": {},
   "outputs": [],
   "source": [
    "era_sizes = []\n",
    "for i in range(MIN_ERA, MAX_ERA):\n",
    "    n = df[df['era'].astype(int)==i].shape[0]\n",
    "    era_sizes.append(n)\n",
    "\n",
    "fig, ax = plt.subplots()\n",
    "ax.set_xlabel('Era')\n",
    "ax.set_ylabel('Number of entries')\n",
    "plt.plot(range(MIN_ERA, MAX_ERA), era_sizes)"
   ]
  },
  {
   "cell_type": "code",
   "execution_count": null,
   "metadata": {},
   "outputs": [],
   "source": [
    "# cr = df.corr()"
   ]
  },
  {
   "cell_type": "code",
   "execution_count": null,
   "metadata": {},
   "outputs": [],
   "source": [
    "# top5={}\n",
    "# for c in df.columns:\n",
    "#     if 'target' not in c:\n",
    "#         v = cr.loc[c,'target']\n",
    "#         if len(top5) < 5:\n",
    "#             top5[c] = v\n",
    "#         else:\n",
    "#             for k in top5:\n",
    "#                 if v > top5[k]:\n",
    "#                     top5.pop(k)\n",
    "#                     top5[c] = v\n",
    "#                     break\n",
    "# print(top5)"
   ]
  },
  {
   "cell_type": "code",
   "execution_count": null,
   "metadata": {},
   "outputs": [],
   "source": [
    "# df[list(top5.keys()) + ['target']]"
   ]
  },
  {
   "cell_type": "code",
   "execution_count": null,
   "metadata": {},
   "outputs": [],
   "source": [
    "feature_cols = [i for i in df.columns if 'feature' in i]# + ['era']\n",
    "target_cols = [i for i in df.columns if 'target' in i]"
   ]
  },
  {
   "cell_type": "code",
   "execution_count": null,
   "metadata": {},
   "outputs": [],
   "source": [
    "len(feature_cols)"
   ]
  },
  {
   "cell_type": "code",
   "execution_count": null,
   "metadata": {},
   "outputs": [],
   "source": [
    "f\"{len(feature_cols)} + {len(target_cols)} = {len(df.columns)} {len(feature_cols) + len(target_cols) == len(df.columns)}\""
   ]
  },
  {
   "cell_type": "code",
   "execution_count": null,
   "metadata": {},
   "outputs": [],
   "source": []
  },
  {
   "cell_type": "code",
   "execution_count": null,
   "metadata": {},
   "outputs": [],
   "source": [
    "import torch\n",
    "import torch.nn as nn"
   ]
  },
  {
   "cell_type": "code",
   "execution_count": null,
   "metadata": {},
   "outputs": [],
   "source": [
    "df"
   ]
  },
  {
   "cell_type": "code",
   "execution_count": null,
   "metadata": {},
   "outputs": [],
   "source": [
    "val_df.columns"
   ]
  },
  {
   "cell_type": "code",
   "execution_count": null,
   "metadata": {},
   "outputs": [],
   "source": [
    "training_df = df[feature_cols]\n",
    "training_target = df['target']\n",
    "\n",
    "valid_df = val_df[feature_cols]\n",
    "valid_target = val_df['target']"
   ]
  },
  {
   "cell_type": "code",
   "execution_count": null,
   "metadata": {},
   "outputs": [],
   "source": [
    "training_df"
   ]
  },
  {
   "cell_type": "code",
   "execution_count": null,
   "metadata": {},
   "outputs": [],
   "source": [
    "X = torch.tensor(training_df.values)\n",
    "Y = torch.tensor(training_target.values)\n",
    "\n",
    "X_val = torch.tensor(valid_df.values)\n",
    "Y_val = torch.tensor(valid_target.values)"
   ]
  },
  {
   "cell_type": "code",
   "execution_count": null,
   "metadata": {},
   "outputs": [],
   "source": [
    "X.shape"
   ]
  },
  {
   "cell_type": "code",
   "execution_count": null,
   "metadata": {},
   "outputs": [],
   "source": [
    "Y.shape"
   ]
  },
  {
   "cell_type": "code",
   "execution_count": null,
   "metadata": {},
   "outputs": [],
   "source": [
    "# model.eval()\n",
    "\n",
    "# for i in tqdm(range(X.shape[0])):\n",
    "#     x, y = X[i].cuda(), Y[i].cuda()\n",
    "#     pred = model(x)\n",
    "#     loss = criterion(pred.squeeze(), y)\n",
    "#     running_loss += loss.item()\n",
    "# losses.append(running_loss/X.shape[0])"
   ]
  },
  {
   "cell_type": "code",
   "execution_count": null,
   "metadata": {},
   "outputs": [],
   "source": [
    "class Net(nn.Module):\n",
    "    def __init__(self):\n",
    "        super().__init__()\n",
    "        self.lin = nn.Sequential(\n",
    "            nn.Linear(1050, 500),\n",
    "            nn.ReLU(),\n",
    "            nn.Linear(500, 125),\n",
    "            nn.ReLU(),\n",
    "            nn.Linear(125, 1),    \n",
    "        )\n",
    "\n",
    "    def forward(self, x):\n",
    "        x = self.lin(x)\n",
    "        return x"
   ]
  },
  {
   "cell_type": "code",
   "execution_count": null,
   "metadata": {},
   "outputs": [],
   "source": [
    "model = Net()\n",
    "model.cuda()\n",
    "optimizer = torch.optim.Adam(model.parameters(), lr=0.001)#, weight_decay=0.1)\n",
    "criterion = nn.MSELoss()\n",
    "scheduler = torch.optim.lr_scheduler.ReduceLROnPlateau(optimizer, verbose=True)\n",
    "\n",
    "\n",
    "losses = []\n",
    "\n",
    "for _ in range(1):\n",
    "    running_loss = 0\n",
    "    for i in tqdm(range(X.shape[0])):\n",
    "        optimizer.zero_grad()\n",
    "        x, y = X[i].cuda(), Y[i].cuda()\n",
    "        pred = model(x)\n",
    "        loss = criterion(pred.squeeze(), y)\n",
    "        loss.backward()\n",
    "        optimizer.step()\n",
    "        running_loss += loss.item()\n",
    "    losses.append(running_loss/X.shape[0])\n",
    "    print(losses[-1])\n",
    "    scheduler.step(losses[-1])\n"
   ]
  },
  {
   "cell_type": "code",
   "execution_count": null,
   "metadata": {},
   "outputs": [],
   "source": [
    "# torch.set_printoptions(threshold=10000)\n",
    "# with open('params.m', 'w') as f:\n",
    "#     for name, param in model.named_parameters():\n",
    "#         print(name, param)"
   ]
  },
  {
   "cell_type": "code",
   "execution_count": null,
   "metadata": {},
   "outputs": [],
   "source": [
    "model.eval()\n",
    "\n",
    "losses = []\n",
    "with torch.no_grad():\n",
    "    for i in tqdm(range(X_val.shape[0])):\n",
    "        x, y = X_val[i].cuda(), Y_val[i].cuda()\n",
    "        pred = model(x)\n",
    "        loss = criterion(pred.squeeze(), y)\n",
    "        losses.append(loss.item())"
   ]
  },
  {
   "cell_type": "code",
   "execution_count": null,
   "metadata": {},
   "outputs": [],
   "source": [
    "np.mean(losses)"
   ]
  },
  {
   "cell_type": "code",
   "execution_count": null,
   "metadata": {},
   "outputs": [],
   "source": [
    "plt.plot(range(len(losses)), losses)\n",
    "plt.show()"
   ]
  },
  {
   "cell_type": "code",
   "execution_count": null,
   "metadata": {},
   "outputs": [],
   "source": [
    "sns.histplot(losses)"
   ]
  },
  {
   "cell_type": "code",
   "execution_count": null,
   "metadata": {},
   "outputs": [],
   "source": [
    "np.mean(losses)"
   ]
  },
  {
   "cell_type": "code",
   "execution_count": null,
   "metadata": {},
   "outputs": [],
   "source": [
    "targets = Y.cpu().detach().numpy()\n",
    "K = []\n",
    "for i in targets:\n",
    "    k = i.as_integer_ratio()[1]\n",
    "    K.append(k)"
   ]
  },
  {
   "cell_type": "code",
   "execution_count": null,
   "metadata": {},
   "outputs": [],
   "source": [
    "sns.histplot(K)"
   ]
  },
  {
   "cell_type": "code",
   "execution_count": null,
   "metadata": {},
   "outputs": [],
   "source": []
  }
 ],
 "metadata": {
  "interpreter": {
   "hash": "ec0dd027174c23446a93d60ddecf5cb1db82aaf050c963ad3d6a302623e58ea1"
  },
  "kernelspec": {
   "display_name": "Python 3.9.12 ('dl')",
   "language": "python",
   "name": "python3"
  },
  "language_info": {
   "codemirror_mode": {
    "name": "ipython",
    "version": 3
   },
   "file_extension": ".py",
   "mimetype": "text/x-python",
   "name": "python",
   "nbconvert_exporter": "python",
   "pygments_lexer": "ipython3",
   "version": "3.9.12"
  },
  "orig_nbformat": 4
 },
 "nbformat": 4,
 "nbformat_minor": 2
}
